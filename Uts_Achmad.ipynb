{
 "cells": [
  {
   "cell_type": "code",
   "execution_count": 1,
   "id": "bfc055da-7876-43c6-bbc1-99dcff3d43f1",
   "metadata": {},
   "outputs": [],
   "source": [
    "\n",
    "# Data \n",
    "company_detail_list = [\n",
    "      {\n",
    "          'name': 'Company 1',\n",
    "          'domain': 'Retail',\n",
    "          'country': 'United States'\n",
    "      },\n",
    "      {\n",
    "          'name': 'Company 2',\n",
    "          'domain': 'Technology',\n",
    "          'country': 'United Kingdom'\n",
    "      },\n",
    "      {\n",
    "          'name': 'Company 3',\n",
    "          'domain': 'Healthcare',\n",
    "          'country': 'United States'\n",
    "      }\n",
    "  ]\n",
    "\n",
    "employee_detail_list = [\n",
    "     {\n",
    "          'name': 'EMP-0001',\n",
    "          'first_name': 'John',\n",
    "          'last_name': 'Doe',\n",
    "          'full_name': 'John Doe',\n",
    "          'company': 'Company 1',\n",
    "          'nationality': 'Australia'\n",
    "      },\n",
    "      {\n",
    "          'name': 'EMP-0002',\n",
    "          'first_name': 'Tom',\n",
    "          'last_name': 'Smith',\n",
    "          'full_name': 'Tom Smith',\n",
    "          'company': 'Company 2',\n",
    "          'nationality': 'United States'\n",
    "      },\n",
    "      {\n",
    "          'name': 'EMP-0003',\n",
    "          'first_name': 'Andrew',\n",
    "          'last_name': 'Sebastian',\n",
    "          'full_name': 'Andrew Sebastian',\n",
    "          'company': 'Company 3',\n",
    "          'nationality': 'United States'\n",
    "      },\n",
    "      {\n",
    "          'name': 'EMP-0005',\n",
    "          'first_name': 'Ying Han',\n",
    "          'last_name': 'Tan',\n",
    "          'full_name': 'Ying Han Tan',\n",
    "          'company': 'Company 1',\n",
    "          'nationality': 'Australia'\n",
    "      },\n",
    "      {\n",
    "          'name': 'EMP-0015',\n",
    "          'first_name': 'Kenneth',\n",
    "          'last_name': 'Ng',\n",
    "          'full_name': 'Kenneth Ng',\n",
    "          'company': 'Company 3',\n",
    "          'nationality': 'United States'\n",
    "      },\n",
    "      {\n",
    "          'name': 'EMP-0018',\n",
    "          'first_name': 'Rubby',\n",
    "          'last_name': 'Lee',\n",
    "          'full_name': 'Rubby Lee',\n",
    "          'company': 'Company 2',\n",
    "          'nationality': 'Hong Kong'\n",
    "      },\n",
    "     {\n",
    "          'name': 'EMP-0017',\n",
    "          'first_name': 'Robert',\n",
    "          'last_name': 'White',\n",
    "          'full_name': 'Robert White',\n",
    "          'company': 'Company 1',\n",
    "          'nationality': 'United Kingdom'\n",
    "      }\n",
    "  ]\n"
   ]
  },
  {
   "cell_type": "code",
   "execution_count": 3,
   "id": "8f6021de-f44b-42d7-834c-13a5634d3b2c",
   "metadata": {},
   "outputs": [
    {
     "name": "stdout",
     "output_type": "stream",
     "text": [
      "[{'name': 'Company 3'}, {'name': 'Company 2'}, {'name': 'Company 1'}]\n"
     ]
    }
   ],
   "source": [
    "# TASK 1\n",
    "def get_companies_sorted_reverse(company_detail_list):\n",
    "    sorted_companies = sorted(company_detail_list, key=lambda x: x['name'], reverse=True)\n",
    "    return [{\"name\": company[\"name\"]} for company in sorted_companies]\n",
    "\n",
    "print(get_companies_sorted_reverse(company_detail_list))"
   ]
  },
  {
   "cell_type": "code",
   "execution_count": 4,
   "id": "157feae4-eb10-4038-bffb-395672d91a1a",
   "metadata": {},
   "outputs": [
    {
     "name": "stdout",
     "output_type": "stream",
     "text": [
      "Company 1: Retail (United States)\n",
      "Company 2: Technology (United Kingdom)\n",
      "Company 3: Healthcare (United States)\n"
     ]
    }
   ],
   "source": [
    "# TASK 2\n",
    "def print_company_domains(company_detail_list):\n",
    "    for company in company_detail_list:\n",
    "        print(f\"{company['name']}: {company['domain']} ({company['country']})\")\n",
    "\n",
    "\n",
    "print_company_domains(company_detail_list)"
   ]
  },
  {
   "cell_type": "code",
   "execution_count": 5,
   "id": "df10922c-aee8-4790-a053-7dc24adaef0d",
   "metadata": {},
   "outputs": [
    {
     "name": "stdout",
     "output_type": "stream",
     "text": [
      "{'Retail': ['John Doe', 'Ying Han Tan', 'Robert White'], 'Technology': ['Tom Smith', 'Rubby Lee'], 'Healthcare': ['Andrew Sebastian', 'Kenneth Ng']}\n"
     ]
    }
   ],
   "source": [
    "# TASK 3\n",
    "def get_employees_by_domain(company_detail_list, employee_detail_list):\n",
    "    domain_to_company = {company[\"name\"]: company[\"domain\"] for company in company_detail_list}\n",
    "    employees_by_domain = {}\n",
    "\n",
    "    for employee in employee_detail_list:\n",
    "        domain = domain_to_company[employee[\"company\"]]\n",
    "        if domain not in employees_by_domain:\n",
    "            employees_by_domain[domain] = []\n",
    "        employees_by_domain[domain].append(employee[\"full_name\"])\n",
    "\n",
    "    return employees_by_domain\n",
    "\n",
    "\n",
    "print(get_employees_by_domain(company_detail_list, employee_detail_list))"
   ]
  },
  {
   "cell_type": "code",
   "execution_count": 6,
   "id": "a328e357-a4be-47b8-af2d-22ca17118e52",
   "metadata": {},
   "outputs": [
    {
     "name": "stdout",
     "output_type": "stream",
     "text": [
      "[{'full_name': 'John Doe', 'company': 'Company 1', 'country': 'United States'}, {'full_name': 'Tom Smith', 'company': 'Company 2', 'country': 'United Kingdom'}, {'full_name': 'Andrew Sebastian', 'company': 'Company 3', 'country': 'United States'}, {'full_name': 'Ying Han Tan', 'company': 'Company 1', 'country': 'United States'}, {'full_name': 'Kenneth Ng', 'company': 'Company 3', 'country': 'United States'}, {'full_name': 'Rubby Lee', 'company': 'Company 2', 'country': 'United Kingdom'}, {'full_name': 'Robert White', 'company': 'Company 1', 'country': 'United States'}]\n"
     ]
    }
   ],
   "source": [
    "# TASK 4\n",
    "def get_employees_with_company_country(company_detail_list, employee_detail_list):\n",
    "    company_to_country = {company[\"name\"]: company[\"country\"] for company in company_detail_list}\n",
    "    result = []\n",
    "\n",
    "    for employee in employee_detail_list:\n",
    "        result.append({\n",
    "            \"full_name\": employee[\"full_name\"],\n",
    "            \"company\": employee[\"company\"],\n",
    "            \"country\": company_to_country[employee[\"company\"]]\n",
    "        })\n",
    "\n",
    "    return result\n",
    "\n",
    "print(get_employees_with_company_country(company_detail_list, employee_detail_list))"
   ]
  },
  {
   "cell_type": "code",
   "execution_count": 7,
   "id": "eb93db6e-9701-4fb9-ab0a-f80c5a75bf89",
   "metadata": {},
   "outputs": [
    {
     "name": "stdout",
     "output_type": "stream",
     "text": [
      "[{'company': 'Company 1', 'employee_nationality': {'Australia': 2, 'United Kingdom': 1}}, {'company': 'Company 2', 'employee_nationality': {'United States': 1, 'Hong Kong': 1}}, {'company': 'Company 3', 'employee_nationality': {'United States': 2}}]\n"
     ]
    }
   ],
   "source": [
    "# TASK 5\n",
    "from collections import defaultdict\n",
    "\n",
    "def get_company_nationality_count(company_detail_list, employee_detail_list):\n",
    "    nationality_count = defaultdict(lambda: defaultdict(int))\n",
    "\n",
    "    for employee in employee_detail_list:\n",
    "        company = employee[\"company\"]\n",
    "        nationality = employee[\"nationality\"]\n",
    "        nationality_count[company][nationality] += 1\n",
    "\n",
    "    result = [{\"company\": company, \"employee_nationality\": dict(nations)}\n",
    "              for company, nations in nationality_count.items()]\n",
    "\n",
    "    return result\n",
    "\n",
    "\n",
    "print(get_company_nationality_count(company_detail_list, employee_detail_list))"
   ]
  },
  {
   "cell_type": "code",
   "execution_count": null,
   "id": "de0ddf18-016b-43b5-90f1-914e28e8ea16",
   "metadata": {},
   "outputs": [],
   "source": []
  }
 ],
 "metadata": {
  "kernelspec": {
   "display_name": "Python 3 (ipykernel)",
   "language": "python",
   "name": "python3"
  },
  "language_info": {
   "codemirror_mode": {
    "name": "ipython",
    "version": 3
   },
   "file_extension": ".py",
   "mimetype": "text/x-python",
   "name": "python",
   "nbconvert_exporter": "python",
   "pygments_lexer": "ipython3",
   "version": "3.10.3"
  }
 },
 "nbformat": 4,
 "nbformat_minor": 5
}
